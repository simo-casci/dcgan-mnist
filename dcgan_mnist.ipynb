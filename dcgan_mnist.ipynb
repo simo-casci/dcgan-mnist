{
  "nbformat": 4,
  "nbformat_minor": 0,
  "metadata": {
    "kernelspec": {
      "display_name": "Python 3",
      "language": "python",
      "name": "python3"
    },
    "language_info": {
      "codemirror_mode": {
        "name": "ipython",
        "version": 3
      },
      "file_extension": ".py",
      "mimetype": "text/x-python",
      "name": "python",
      "nbconvert_exporter": "python",
      "pygments_lexer": "ipython3",
      "version": "3.8.5"
    },
    "colab": {
      "name": "dcgan_mnist.ipynb",
      "provenance": [],
      "collapsed_sections": []
    },
    "accelerator": "GPU"
  },
  "cells": [
    {
      "cell_type": "code",
      "metadata": {
        "id": "JOylyxS86yH-"
      },
      "source": [
        "import numpy as np\n",
        "import tensorflow as tf\n",
        "from tensorflow.keras.layers import *\n",
        "from tensorflow.keras.models import Model\n",
        "import matplotlib.pyplot as plt"
      ],
      "execution_count": 1,
      "outputs": []
    },
    {
      "cell_type": "code",
      "metadata": {
        "colab": {
          "base_uri": "https://localhost:8080/"
        },
        "id": "Ne3rEhcR6yIN",
        "outputId": "2ef9fff9-2f1d-4834-e317-67b2135df8aa"
      },
      "source": [
        "(x_train, _), (_, _) = tf.keras.datasets.mnist.load_data(path=\"mnist.npz\")"
      ],
      "execution_count": 2,
      "outputs": [
        {
          "output_type": "stream",
          "text": [
            "Downloading data from https://storage.googleapis.com/tensorflow/tf-keras-datasets/mnist.npz\n",
            "11493376/11490434 [==============================] - 0s 0us/step\n"
          ],
          "name": "stdout"
        }
      ]
    },
    {
      "cell_type": "code",
      "metadata": {
        "id": "QrQkq8W16yIO"
      },
      "source": [
        "x_train = x_train.reshape(-1, 28, 28, 1).astype(np.float32)\n",
        "x_train = (x_train - 127.5) / 127.5 # between [-1, 1]"
      ],
      "execution_count": 3,
      "outputs": []
    },
    {
      "cell_type": "code",
      "metadata": {
        "id": "o6PLJd4O6yIO"
      },
      "source": [
        "BATCH_SIZE = 256"
      ],
      "execution_count": 4,
      "outputs": []
    },
    {
      "cell_type": "code",
      "metadata": {
        "id": "JGVdArRZ6yIP"
      },
      "source": [
        "train_dataset = tf.data.Dataset.from_tensor_slices(x_train).shuffle(len(x_train)).batch(BATCH_SIZE)"
      ],
      "execution_count": 5,
      "outputs": []
    },
    {
      "cell_type": "code",
      "metadata": {
        "id": "XPfr_KGk6yIQ"
      },
      "source": [
        "inp = Input(shape=(100,))\n",
        "x = Dense(7*7*256)(inp)\n",
        "x = BatchNormalization()(x)\n",
        "x = LeakyReLU()(x)\n",
        "x = Reshape((7,7,256))(x)\n",
        "x = Conv2DTranspose(128, (5,5), strides=(1,1), padding='same')(x) # (None, 7, 7, 128)\n",
        "x = BatchNormalization()(x)\n",
        "x = LeakyReLU()(x)\n",
        "x = Conv2DTranspose(64, (5,5), strides=(2,2), padding='same')(x) # (None, 14, 14, 64)\n",
        "x = BatchNormalization()(x)\n",
        "x = LeakyReLU()(x)\n",
        "out = Conv2DTranspose(1, (5,5), strides=(2,2), padding='same', activation='tanh')(x) # (None, 28, 28, 1)\n",
        "\n",
        "generator = Model(inp, out)"
      ],
      "execution_count": 6,
      "outputs": []
    },
    {
      "cell_type": "code",
      "metadata": {
        "id": "l9IuOHLo6yIR"
      },
      "source": [
        "inp = Input(shape=(28,28,1))\n",
        "x = Conv2D(64, (5,5), strides=(2,2), padding='same')(inp)\n",
        "x = LeakyReLU()(x)\n",
        "x = Dropout(.3)(x)\n",
        "x = Conv2D(128, (5,5), strides=(2,2), padding='same')(x)\n",
        "x = LeakyReLU()(x)\n",
        "x = Dropout(.3)(x)\n",
        "x = Flatten()(x)\n",
        "out = Dense(1)(x)\n",
        "\n",
        "discriminator = Model(inp, out)"
      ],
      "execution_count": 7,
      "outputs": []
    },
    {
      "cell_type": "code",
      "metadata": {
        "colab": {
          "base_uri": "https://localhost:8080/",
          "height": 280
        },
        "id": "DEMVTFjY6yIR",
        "outputId": "5361671c-74d9-4f04-9963-3bf8c5883f31"
      },
      "source": [
        "noise = tf.random.normal((1,100))\n",
        "generated_image = generator(noise, training=False)\n",
        "plt.imshow(tf.reshape(generated_image, (28,28)), 'gray')\n",
        "plt.show()\n",
        "print(discriminator(generated_image).numpy()[0][0])"
      ],
      "execution_count": 8,
      "outputs": [
        {
          "output_type": "display_data",
          "data": {
            "image/png": "[encoded data removed]",
            "text/plain": [
              "<Figure size 432x288 with 1 Axes>"
            ]
          },
          "metadata": {
            "tags": [],
            "needs_background": "light"
          }
        },
        {
          "output_type": "stream",
          "text": [
            "0.0019435139\n"
          ],
          "name": "stdout"
        }
      ]
    },
    {
      "cell_type": "code",
      "metadata": {
        "id": "g6RGDs0H6yIU"
      },
      "source": [
        "cross_entropy = tf.keras.losses.BinaryCrossentropy(from_logits=True)"
      ],
      "execution_count": 9,
      "outputs": []
    },
    {
      "cell_type": "code",
      "metadata": {
        "id": "cm3itl-L6yIV"
      },
      "source": [
        "def generator_loss(fake_output):\n",
        "    return cross_entropy(tf.ones_like(fake_output), fake_output)"
      ],
      "execution_count": 10,
      "outputs": []
    },
    {
      "cell_type": "code",
      "metadata": {
        "id": "3_-tMYfK6yIW"
      },
      "source": [
        "def discriminator_loss(real_output, fake_output):\n",
        "    real_loss = cross_entropy(tf.ones_like(real_output), real_output)\n",
        "    fake_loss = cross_entropy(tf.zeros_like(fake_output), fake_output)\n",
        "    total_loss = real_loss + fake_loss\n",
        "    return total_loss"
      ],
      "execution_count": 11,
      "outputs": []
    },
    {
      "cell_type": "code",
      "metadata": {
        "id": "cAp2OMa86yIX"
      },
      "source": [
        "generator_optimizer = tf.keras.optimizers.Adam(1e-4)\n",
        "discriminator_optimizer = tf.keras.optimizers.Adam(1e-4)"
      ],
      "execution_count": 12,
      "outputs": []
    },
    {
      "cell_type": "code",
      "metadata": {
        "id": "h_PBdVqU6yIY"
      },
      "source": [
        "EPOCHS = 50"
      ],
      "execution_count": 13,
      "outputs": []
    },
    {
      "cell_type": "code",
      "metadata": {
        "id": "kO0XMKIk6yIY"
      },
      "source": [
        "@tf.function\n",
        "def train_step(images):\n",
        "    noise = tf.random.normal((BATCH_SIZE, 100))\n",
        "    \n",
        "    with tf.GradientTape() as gen_tape, tf.GradientTape() as disc_tape:\n",
        "        generated_images = generator(noise, training=True)\n",
        "        \n",
        "        real_output = discriminator(images, training=True)\n",
        "        fake_output = discriminator(generated_images, training=True)\n",
        "        \n",
        "        gen_loss = generator_loss(fake_output)\n",
        "        disc_loss = discriminator_loss(real_output, fake_output)\n",
        "    \n",
        "    gradients_of_generator = gen_tape.gradient(gen_loss, generator.trainable_variables)\n",
        "    gradients_of_discriminator = disc_tape.gradient(disc_loss, discriminator.trainable_variables)\n",
        "    \n",
        "    generator_optimizer.apply_gradients(zip(gradients_of_generator, generator.trainable_variables))\n",
        "    discriminator_optimizer.apply_gradients(zip(gradients_of_discriminator, discriminator.trainable_variables))"
      ],
      "execution_count": 14,
      "outputs": []
    },
    {
      "cell_type": "code",
      "metadata": {
        "id": "z2FQUSX36yIZ"
      },
      "source": [
        "def train(dataset, epochs):\n",
        "    for epoch in range(epochs):\n",
        "        print(f'epoch: {epoch}')\n",
        "        for image_batch in dataset:\n",
        "            train_step(image_batch)            "
      ],
      "execution_count": 15,
      "outputs": []
    },
    {
      "cell_type": "code",
      "metadata": {
        "colab": {
          "base_uri": "https://localhost:8080/"
        },
        "id": "ibB8UfDV6yIa",
        "outputId": "b9d87c46-816c-4657-906a-2a419cb6a1e3"
      },
      "source": [
        "train(train_dataset, EPOCHS)"
      ],
      "execution_count": 16,
      "outputs": [
        {
          "output_type": "stream",
          "text": [
            "epoch: 0\n",
            "epoch: 1\n",
            "epoch: 2\n",
            "epoch: 3\n",
            "epoch: 4\n",
            "epoch: 5\n",
            "epoch: 6\n",
            "epoch: 7\n",
            "epoch: 8\n",
            "epoch: 9\n",
            "epoch: 10\n",
            "epoch: 11\n",
            "epoch: 12\n",
            "epoch: 13\n",
            "epoch: 14\n",
            "epoch: 15\n",
            "epoch: 16\n",
            "epoch: 17\n",
            "epoch: 18\n",
            "epoch: 19\n",
            "epoch: 20\n",
            "epoch: 21\n",
            "epoch: 22\n",
            "epoch: 23\n",
            "epoch: 24\n",
            "epoch: 25\n",
            "epoch: 26\n",
            "epoch: 27\n",
            "epoch: 28\n",
            "epoch: 29\n",
            "epoch: 30\n",
            "epoch: 31\n",
            "epoch: 32\n",
            "epoch: 33\n",
            "epoch: 34\n",
            "epoch: 35\n",
            "epoch: 36\n",
            "epoch: 37\n",
            "epoch: 38\n",
            "epoch: 39\n",
            "epoch: 40\n",
            "epoch: 41\n",
            "epoch: 42\n",
            "epoch: 43\n",
            "epoch: 44\n",
            "epoch: 45\n",
            "epoch: 46\n",
            "epoch: 47\n",
            "epoch: 48\n",
            "epoch: 49\n"
          ],
          "name": "stdout"
        }
      ]
    },
    {
      "cell_type": "code",
      "metadata": {
        "colab": {
          "base_uri": "https://localhost:8080/",
          "height": 280
        },
        "id": "dr6jbQst7Xn7",
        "outputId": "93d4b7e1-d402-46cc-94c6-8355113a9b36"
      },
      "source": [
        "noise = tf.random.normal((1,100))\n",
        "generated_image = generator(noise, training=False)\n",
        "plt.imshow(tf.reshape(generated_image, (28,28)), 'gray')\n",
        "plt.show()\n",
        "print(discriminator(generated_image).numpy()[0][0])"
      ],
      "execution_count": 22,
      "outputs": [
        {
          "output_type": "display_data",
          "data": {
            "image/png": "[encoded data removed]",
            "text/plain": [
              "<Figure size 432x288 with 1 Axes>"
            ]
          },
          "metadata": {
            "tags": [],
            "needs_background": "light"
          }
        },
        {
          "output_type": "stream",
          "text": [
            "1.0860988\n"
          ],
          "name": "stdout"
        }
      ]
    }
  ]
}